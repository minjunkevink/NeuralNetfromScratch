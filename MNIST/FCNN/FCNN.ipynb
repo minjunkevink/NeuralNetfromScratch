{
 "cells": [
  {
   "cell_type": "code",
   "execution_count": 1,
   "id": "0a58edaf-c3b3-42c1-a162-55f88fed0675",
   "metadata": {},
   "outputs": [],
   "source": [
    "import numpy as np"
   ]
  },
  {
   "cell_type": "code",
   "execution_count": null,
   "id": "205376e7-a278-4464-93ba-ca9fdc3af197",
   "metadata": {},
   "outputs": [],
   "source": [
    "def load_mnist_data(train_file, test_file):\n",
    "    # Load the datasets\n",
    "    train_data = np.loadtxt(train_file, delimiter=',')\n",
    "    test_data = np.loadtxt(test_file, delimiter=',')\n",
    "    \n",
    "    # Split labels and images\n",
    "    X_train = train_data[:, 1:] / 255.0\n",
    "    Y_train = train_data[:, 0].astype(int)  # Ensure labels are integers\n",
    "    \n",
    "    X_test = test_data[:, 1:] / 255.0\n",
    "    Y_test = test_data[:, 0].astype(int)  # Ensure labels are integers\n",
    "    \n",
    "    return X_train, Y_train, X_test, Y_test\n",
    "\n",
    "# File paths\n",
    "train_file = '/mnt/data/mnist_train.csv'\n",
    "test_file = '/mnt/data/mnist_test.csv'\n",
    "\n",
    "# Load the data\n",
    "X_train, Y_train, X_test, Y_test = load_mnist_data(train_file, test_file)\n"
   ]
  }
 ],
 "metadata": {
  "kernelspec": {
   "display_name": "Python 3 (ipykernel)",
   "language": "python",
   "name": "python3"
  },
  "language_info": {
   "codemirror_mode": {
    "name": "ipython",
    "version": 3
   },
   "file_extension": ".py",
   "mimetype": "text/x-python",
   "name": "python",
   "nbconvert_exporter": "python",
   "pygments_lexer": "ipython3",
   "version": "3.10.11"
  }
 },
 "nbformat": 4,
 "nbformat_minor": 5
}
