{
 "cells": [
  {
   "cell_type": "code",
   "execution_count": 11,
   "id": "b285a0c9-b1d1-4fbe-a584-201ee5ab95d9",
   "metadata": {},
   "outputs": [],
   "source": [
    "import torch\n",
    "import torchvision\n",
    "import torchvision.transforms as transforms\n",
    "from torch import nn, optim\n",
    "from torchvision.datasets import MNIST\n",
    "import torch.nn.functional as F\n",
    "import wandb"
   ]
  },
  {
   "cell_type": "code",
   "execution_count": 12,
   "id": "1f1ba0a3-fe87-4cfc-9d06-ed1dead6b2fe",
   "metadata": {},
   "outputs": [
    {
     "data": {
      "text/html": [
       "Finishing last run (ID:t8ldsynw) before initializing another..."
      ],
      "text/plain": [
       "<IPython.core.display.HTML object>"
      ]
     },
     "metadata": {},
     "output_type": "display_data"
    },
    {
     "data": {
      "application/vnd.jupyter.widget-view+json": {
       "model_id": "",
       "version_major": 2,
       "version_minor": 0
      },
      "text/plain": [
       "VBox(children=(Label(value='0.003 MB of 0.003 MB uploaded\\r'), FloatProgress(value=1.0, max=1.0)))"
      ]
     },
     "metadata": {},
     "output_type": "display_data"
    },
    {
     "data": {
      "text/html": [
       " View run <strong style=\"color:#cdcd00\">twinkling-ox-4</strong> at: <a href='https://wandb.ai/kimkj/mnist-model-evaluation/runs/t8ldsynw' target=\"_blank\">https://wandb.ai/kimkj/mnist-model-evaluation/runs/t8ldsynw</a><br/> View job at <a href='https://wandb.ai/kimkj/mnist-model-evaluation/jobs/QXJ0aWZhY3RDb2xsZWN0aW9uOjE0MTcyMzkyNw==/version_details/v1' target=\"_blank\">https://wandb.ai/kimkj/mnist-model-evaluation/jobs/QXJ0aWZhY3RDb2xsZWN0aW9uOjE0MTcyMzkyNw==/version_details/v1</a><br/>Synced 5 W&B file(s), 0 media file(s), 0 artifact file(s) and 0 other file(s)"
      ],
      "text/plain": [
       "<IPython.core.display.HTML object>"
      ]
     },
     "metadata": {},
     "output_type": "display_data"
    },
    {
     "data": {
      "text/html": [
       "Find logs at: <code>./wandb/run-20240221_112222-t8ldsynw/logs</code>"
      ],
      "text/plain": [
       "<IPython.core.display.HTML object>"
      ]
     },
     "metadata": {},
     "output_type": "display_data"
    },
    {
     "data": {
      "text/html": [
       "Successfully finished last run (ID:t8ldsynw). Initializing new run:<br/>"
      ],
      "text/plain": [
       "<IPython.core.display.HTML object>"
      ]
     },
     "metadata": {},
     "output_type": "display_data"
    },
    {
     "data": {
      "application/vnd.jupyter.widget-view+json": {
       "model_id": "1a9e3c064be14b7ca6f5cdec583fbcce",
       "version_major": 2,
       "version_minor": 0
      },
      "text/plain": [
       "VBox(children=(Label(value='Waiting for wandb.init()...\\r'), FloatProgress(value=0.011113865933334131, max=1.0…"
      ]
     },
     "metadata": {},
     "output_type": "display_data"
    },
    {
     "data": {
      "text/html": [
       "Tracking run with wandb version 0.16.3"
      ],
      "text/plain": [
       "<IPython.core.display.HTML object>"
      ]
     },
     "metadata": {},
     "output_type": "display_data"
    },
    {
     "data": {
      "text/html": [
       "Run data is saved locally in <code>/home/kjk/Documents/Workspace/NeuralNetfromScratch/src/models/wandb/run-20240221_112554-x3y0m7p2</code>"
      ],
      "text/plain": [
       "<IPython.core.display.HTML object>"
      ]
     },
     "metadata": {},
     "output_type": "display_data"
    },
    {
     "data": {
      "text/html": [
       "Syncing run <strong><a href='https://wandb.ai/kimkj/mnist-model-evaluation/runs/x3y0m7p2' target=\"_blank\">auspicious-monkey-5</a></strong> to <a href='https://wandb.ai/kimkj/mnist-model-evaluation' target=\"_blank\">Weights & Biases</a> (<a href='https://wandb.me/run' target=\"_blank\">docs</a>)<br/>"
      ],
      "text/plain": [
       "<IPython.core.display.HTML object>"
      ]
     },
     "metadata": {},
     "output_type": "display_data"
    },
    {
     "data": {
      "text/html": [
       " View project at <a href='https://wandb.ai/kimkj/mnist-model-evaluation' target=\"_blank\">https://wandb.ai/kimkj/mnist-model-evaluation</a>"
      ],
      "text/plain": [
       "<IPython.core.display.HTML object>"
      ]
     },
     "metadata": {},
     "output_type": "display_data"
    },
    {
     "data": {
      "text/html": [
       " View run at <a href='https://wandb.ai/kimkj/mnist-model-evaluation/runs/x3y0m7p2' target=\"_blank\">https://wandb.ai/kimkj/mnist-model-evaluation/runs/x3y0m7p2</a>"
      ],
      "text/plain": [
       "<IPython.core.display.HTML object>"
      ]
     },
     "metadata": {},
     "output_type": "display_data"
    },
    {
     "data": {
      "text/html": [
       "<button onClick=\"this.nextSibling.style.display='block';this.style.display='none';\">Display W&B run</button><iframe src='https://wandb.ai/kimkj/mnist-model-evaluation/runs/x3y0m7p2?jupyter=true' style='border:none;width:100%;height:420px;display:none;'></iframe>"
      ],
      "text/plain": [
       "<wandb.sdk.wandb_run.Run at 0x7fe49419c490>"
      ]
     },
     "execution_count": 12,
     "metadata": {},
     "output_type": "execute_result"
    }
   ],
   "source": [
    "wandb.init(project=\"mnist-model-evaluation\", entity=\"kimkj\")"
   ]
  },
  {
   "cell_type": "code",
   "execution_count": 13,
   "id": "0c025039-9c44-4dff-bd4f-e04ff802abc0",
   "metadata": {},
   "outputs": [],
   "source": [
    "transform = transforms.Compose([transforms.ToTensor(), transforms.Normalize((0.5,), (0.5,))])\n",
    "\n",
    "trainset = MNIST(root='./data', train=True, download=True, transform=transform)\n",
    "trainloader = torch.utils.data.DataLoader(trainset, batch_size=64, shuffle=True)\n",
    "\n",
    "testset = MNIST(root='./data', train=False, download=True, transform=transform)\n",
    "testloader = torch.utils.data.DataLoader(testset, batch_size=64, shuffle=False)\n"
   ]
  },
  {
   "cell_type": "code",
   "execution_count": 14,
   "id": "cd93ab23-7de6-485d-be1c-d2e34fed1f0e",
   "metadata": {},
   "outputs": [],
   "source": [
    "class Net(nn.Module):\n",
    "    def __init__(self):\n",
    "        super(Net, self).__init__()\n",
    "        self.conv1 = nn.Conv2d(1, 32, 5)  # input channel, output channels, kernel size\n",
    "        self.pool = nn.MaxPool2d(2, 2)\n",
    "        self.conv2 = nn.Conv2d(32, 64, 5)\n",
    "        self.fc1 = nn.Linear(64 * 4 * 4, 128)\n",
    "        self.fc2 = nn.Linear(128, 10)\n",
    "\n",
    "    def forward(self, x):\n",
    "        x = self.pool(F.relu(self.conv1(x)))\n",
    "        x = self.pool(F.relu(self.conv2(x)))\n",
    "        x = x.view(-1, 64 * 4 * 4)\n",
    "        x = F.relu(self.fc1(x))\n",
    "        x = self.fc2(x)\n",
    "        return x"
   ]
  },
  {
   "cell_type": "code",
   "execution_count": 15,
   "id": "2765fde2-5ef3-4307-b4a4-0aaa56b10485",
   "metadata": {},
   "outputs": [],
   "source": [
    "net = Net()\n",
    "criterion = nn.CrossEntropyLoss()\n",
    "optimizer = optim.Adam(net.parameters(), lr=0.001)"
   ]
  },
  {
   "cell_type": "code",
   "execution_count": 18,
   "id": "483c5d7d-0a85-41dd-91fe-169c2fb0e802",
   "metadata": {},
   "outputs": [
    {
     "data": {
      "text/plain": [
       "[]"
      ]
     },
     "execution_count": 18,
     "metadata": {},
     "output_type": "execute_result"
    }
   ],
   "source": [
    "wandb.watch(net, log=\"all\")\n"
   ]
  },
  {
   "cell_type": "code",
   "execution_count": 19,
   "id": "9b61fbba-5848-41b0-a582-fcac2d4f4b27",
   "metadata": {},
   "outputs": [
    {
     "name": "stdout",
     "output_type": "stream",
     "text": [
      "[1, 100] loss: 0.5781414509564639\n",
      "[1, 200] loss: 0.15523146169260144\n",
      "[1, 300] loss: 0.10032842166256159\n",
      "[1, 400] loss: 0.09682094195857643\n",
      "[1, 500] loss: 0.06656494897790254\n",
      "[1, 600] loss: 0.0676163771096617\n",
      "[1, 700] loss: 0.07351508445106447\n",
      "[1, 800] loss: 0.06918032933492213\n",
      "[1, 900] loss: 0.05287628105375916\n",
      "[2, 100] loss: 0.042560564717277885\n",
      "[2, 200] loss: 0.04525746748899109\n",
      "[2, 300] loss: 0.042832578056259084\n",
      "[2, 400] loss: 0.04246213944396004\n",
      "[2, 500] loss: 0.038827738310210407\n",
      "[2, 600] loss: 0.04034471719700378\n",
      "[2, 700] loss: 0.04610825837822631\n",
      "[2, 800] loss: 0.04225393576081842\n",
      "[2, 900] loss: 0.04430133920279331\n",
      "[3, 100] loss: 0.02752765033626929\n",
      "[3, 200] loss: 0.031773455184302295\n",
      "[3, 300] loss: 0.031107265628525057\n",
      "[3, 400] loss: 0.024354798923013732\n",
      "[3, 500] loss: 0.032761732968501746\n",
      "[3, 600] loss: 0.026737645419925685\n",
      "[3, 700] loss: 0.027762318205204792\n",
      "[3, 800] loss: 0.03084920658002375\n",
      "[3, 900] loss: 0.036144664086168635\n",
      "[4, 100] loss: 0.02086902049544733\n",
      "[4, 200] loss: 0.023191336115123706\n",
      "[4, 300] loss: 0.022830185269995126\n",
      "[4, 400] loss: 0.02414731602650136\n",
      "[4, 500] loss: 0.024236329050181665\n",
      "[4, 600] loss: 0.0246743969230738\n",
      "[4, 700] loss: 0.01676028308836976\n",
      "[4, 800] loss: 0.025243763528269483\n",
      "[4, 900] loss: 0.02295478984466172\n",
      "[5, 100] loss: 0.013171740370744374\n",
      "[5, 200] loss: 0.0158436434523901\n",
      "[5, 300] loss: 0.016731169569757186\n",
      "[5, 400] loss: 0.015254291729506804\n",
      "[5, 500] loss: 0.012580322075154981\n",
      "[5, 600] loss: 0.021468902982232977\n",
      "[5, 700] loss: 0.020528980777598918\n",
      "[5, 800] loss: 0.021780422111914957\n",
      "[5, 900] loss: 0.022427492160204565\n",
      "[6, 100] loss: 0.012193480633504806\n",
      "[6, 200] loss: 0.011685226024637814\n",
      "[6, 300] loss: 0.016378501213621346\n",
      "[6, 400] loss: 0.013957176984076796\n",
      "[6, 500] loss: 0.01316744291303621\n",
      "[6, 600] loss: 0.01384949311213859\n",
      "[6, 700] loss: 0.011170049914944684\n",
      "[6, 800] loss: 0.010875781889044447\n",
      "[6, 900] loss: 0.014865784716821508\n",
      "[7, 100] loss: 0.011101934303023881\n",
      "[7, 200] loss: 0.008927751736955543\n",
      "[7, 300] loss: 0.007254973122780939\n",
      "[7, 400] loss: 0.008249129603354959\n",
      "[7, 500] loss: 0.02013819194043208\n",
      "[7, 600] loss: 0.017515584542670694\n",
      "[7, 700] loss: 0.015959123196553265\n",
      "[7, 800] loss: 0.01196487594039354\n",
      "[7, 900] loss: 0.014587696446033077\n",
      "[8, 100] loss: 0.012344236749349875\n",
      "[8, 200] loss: 0.006690060604250902\n",
      "[8, 300] loss: 0.00840139079722576\n",
      "[8, 400] loss: 0.01108591933981188\n",
      "[8, 500] loss: 0.01118600312860508\n",
      "[8, 600] loss: 0.00549625867616669\n",
      "[8, 700] loss: 0.016858353638090195\n",
      "[8, 800] loss: 0.012697561852601211\n",
      "[8, 900] loss: 0.014968719515563863\n",
      "[9, 100] loss: 0.006636618473539784\n",
      "[9, 200] loss: 0.0107624689444674\n",
      "[9, 300] loss: 0.006445429998302643\n",
      "[9, 400] loss: 0.007014070869372517\n",
      "[9, 500] loss: 0.005863378344647572\n",
      "[9, 600] loss: 0.010164928140156917\n",
      "[9, 700] loss: 0.009513463683470036\n",
      "[9, 800] loss: 0.008134639626205172\n",
      "[9, 900] loss: 0.009163663039089442\n",
      "[10, 100] loss: 0.00594718185772308\n",
      "[10, 200] loss: 0.005821873820514157\n",
      "[10, 300] loss: 0.006785748934798903\n",
      "[10, 400] loss: 0.007700074075560223\n",
      "[10, 500] loss: 0.013903223551744759\n",
      "[10, 600] loss: 0.018606775802300034\n",
      "[10, 700] loss: 0.006003692459780723\n",
      "[10, 800] loss: 0.0054242590870399\n",
      "[10, 900] loss: 0.010743161975724433\n"
     ]
    }
   ],
   "source": [
    "for epoch in range(10):  # loop over the dataset multiple times\n",
    "    running_loss = 0.0\n",
    "    for i, data in enumerate(trainloader, 0):\n",
    "        inputs, labels = data\n",
    "        optimizer.zero_grad()\n",
    "        outputs = net(inputs)\n",
    "        loss = criterion(outputs, labels)\n",
    "        loss.backward()\n",
    "        optimizer.step()\n",
    "        running_loss += loss.item()\n",
    "        if i % 100 == 99:    # log every 100 mini-batches\n",
    "            print(f'[{epoch + 1}, {i + 1}] loss: {running_loss / 100}')\n",
    "            wandb.log({\"loss\": running_loss / 100})\n",
    "            running_loss = 0.0"
   ]
  },
  {
   "cell_type": "code",
   "execution_count": 17,
   "id": "a36e0b4a-f343-4d1f-b456-807fa36a9ed2",
   "metadata": {},
   "outputs": [
    {
     "name": "stdout",
     "output_type": "stream",
     "text": [
      "Accuracy of the network on the 10000 test images: 10 %\n"
     ]
    }
   ],
   "source": [
    "correct = 0\n",
    "total = 0\n",
    "with torch.no_grad():\n",
    "    for data in testloader:\n",
    "        images, labels = data\n",
    "        outputs = net(images)\n",
    "        _, predicted = torch.max(outputs.data, 1)\n",
    "        total += labels.size(0)\n",
    "        correct += (predicted == labels).sum().item()\n",
    "\n",
    "print('Accuracy of the network on the 10000 test images: %d %%' % (100 * correct / total))\n",
    "wandb.log({\"accuracy\": 100 * correct / total})"
   ]
  },
  {
   "cell_type": "code",
   "execution_count": 20,
   "id": "1e14e65b-963a-4102-9e59-4084a5e48ea2",
   "metadata": {},
   "outputs": [
    {
     "data": {
      "application/vnd.jupyter.widget-view+json": {
       "model_id": "",
       "version_major": 2,
       "version_minor": 0
      },
      "text/plain": [
       "VBox(children=(Label(value='0.003 MB of 0.003 MB uploaded\\r'), FloatProgress(value=1.0, max=1.0)))"
      ]
     },
     "metadata": {},
     "output_type": "display_data"
    },
    {
     "data": {
      "text/html": [
       "W&B sync reduced upload amount by 6.0%             "
      ],
      "text/plain": [
       "<IPython.core.display.HTML object>"
      ]
     },
     "metadata": {},
     "output_type": "display_data"
    },
    {
     "data": {
      "text/html": [
       "<style>\n",
       "    table.wandb td:nth-child(1) { padding: 0 10px; text-align: left ; width: auto;} td:nth-child(2) {text-align: left ; width: 100%}\n",
       "    .wandb-row { display: flex; flex-direction: row; flex-wrap: wrap; justify-content: flex-start; width: 100% }\n",
       "    .wandb-col { display: flex; flex-direction: column; flex-basis: 100%; flex: 1; padding: 10px; }\n",
       "    </style>\n",
       "<div class=\"wandb-row\"><div class=\"wandb-col\"><h3>Run history:</h3><br/><table class=\"wandb\"><tr><td>accuracy</td><td>▁</td></tr><tr><td>loss</td><td>█▂▂▂▁▁▁▁▁▁▁▁▁▁▁▁▁▁▁▁▁▁▁▁▁▁▁▁▁▁▁▁▁▁▁▁▁▁▁▁</td></tr></table><br/></div><div class=\"wandb-col\"><h3>Run summary:</h3><br/><table class=\"wandb\"><tr><td>accuracy</td><td>10.23</td></tr><tr><td>loss</td><td>0.01074</td></tr></table><br/></div></div>"
      ],
      "text/plain": [
       "<IPython.core.display.HTML object>"
      ]
     },
     "metadata": {},
     "output_type": "display_data"
    },
    {
     "data": {
      "text/html": [
       " View run <strong style=\"color:#cdcd00\">auspicious-monkey-5</strong> at: <a href='https://wandb.ai/kimkj/mnist-model-evaluation/runs/x3y0m7p2' target=\"_blank\">https://wandb.ai/kimkj/mnist-model-evaluation/runs/x3y0m7p2</a><br/> View job at <a href='https://wandb.ai/kimkj/mnist-model-evaluation/jobs/QXJ0aWZhY3RDb2xsZWN0aW9uOjE0MTcyMzkyNw==/version_details/v2' target=\"_blank\">https://wandb.ai/kimkj/mnist-model-evaluation/jobs/QXJ0aWZhY3RDb2xsZWN0aW9uOjE0MTcyMzkyNw==/version_details/v2</a><br/>Synced 5 W&B file(s), 0 media file(s), 2 artifact file(s) and 0 other file(s)"
      ],
      "text/plain": [
       "<IPython.core.display.HTML object>"
      ]
     },
     "metadata": {},
     "output_type": "display_data"
    },
    {
     "data": {
      "text/html": [
       "Find logs at: <code>./wandb/run-20240221_112554-x3y0m7p2/logs</code>"
      ],
      "text/plain": [
       "<IPython.core.display.HTML object>"
      ]
     },
     "metadata": {},
     "output_type": "display_data"
    }
   ],
   "source": [
    "wandb.finish()\n"
   ]
  },
  {
   "cell_type": "code",
   "execution_count": null,
   "id": "1cbdb7f6-07ef-49d6-8a79-23ccb89c31f3",
   "metadata": {},
   "outputs": [],
   "source": []
  }
 ],
 "metadata": {
  "kernelspec": {
   "display_name": "Python 3 (ipykernel)",
   "language": "python",
   "name": "python3"
  },
  "language_info": {
   "codemirror_mode": {
    "name": "ipython",
    "version": 3
   },
   "file_extension": ".py",
   "mimetype": "text/x-python",
   "name": "python",
   "nbconvert_exporter": "python",
   "pygments_lexer": "ipython3",
   "version": "3.10.12"
  }
 },
 "nbformat": 4,
 "nbformat_minor": 5
}
