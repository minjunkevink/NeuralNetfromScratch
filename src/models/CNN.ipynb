{
 "cells": [
  {
   "cell_type": "code",
   "execution_count": 27,
   "id": "b285a0c9-b1d1-4fbe-a584-201ee5ab95d9",
   "metadata": {},
   "outputs": [],
   "source": [
    "import torch\n",
    "import torchvision\n",
    "import torchvision.transforms as transforms\n",
    "from torch import nn, optim\n",
    "from torchvision.datasets import MNIST\n",
    "import torch.nn.functional as F\n",
    "import wandb"
   ]
  },
  {
   "cell_type": "code",
   "execution_count": 28,
   "id": "6847e9c1-0f72-443a-a1c1-76a090ffbccc",
   "metadata": {},
   "outputs": [
    {
     "data": {
      "text/plain": [
       "<torch.cuda.device at 0x7f1b4371a200>"
      ]
     },
     "execution_count": 28,
     "metadata": {},
     "output_type": "execute_result"
    }
   ],
   "source": [
    "torch.cuda.is_available()\n",
    "torch.cuda.device(0)"
   ]
  },
  {
   "cell_type": "code",
   "execution_count": 29,
   "id": "1f1ba0a3-fe87-4cfc-9d06-ed1dead6b2fe",
   "metadata": {},
   "outputs": [
    {
     "data": {
      "text/html": [
       "Finishing last run (ID:xz0kgzfk) before initializing another..."
      ],
      "text/plain": [
       "<IPython.core.display.HTML object>"
      ]
     },
     "metadata": {},
     "output_type": "display_data"
    },
    {
     "name": "stderr",
     "output_type": "stream",
     "text": [
      "wandb: WARNING Source type is set to 'repo' but some required information is missing from the environment. A job will not be created from this run. See https://docs.wandb.ai/guides/launch/create-job\n"
     ]
    },
    {
     "data": {
      "application/vnd.jupyter.widget-view+json": {
       "model_id": "593b65b4137e43beb8cc1de0f52e07a2",
       "version_major": 2,
       "version_minor": 0
      },
      "text/plain": [
       "VBox(children=(Label(value='0.007 MB of 0.007 MB uploaded\\r'), FloatProgress(value=1.0, max=1.0)))"
      ]
     },
     "metadata": {},
     "output_type": "display_data"
    },
    {
     "data": {
      "text/html": [
       " View run <strong style=\"color:#cdcd00\">legendary-star-8</strong> at: <a href='https://wandb.ai/kimkj/mnist-model-evaluation/runs/xz0kgzfk' target=\"_blank\">https://wandb.ai/kimkj/mnist-model-evaluation/runs/xz0kgzfk</a><br/>Synced 4 W&B file(s), 0 media file(s), 0 artifact file(s) and 0 other file(s)"
      ],
      "text/plain": [
       "<IPython.core.display.HTML object>"
      ]
     },
     "metadata": {},
     "output_type": "display_data"
    },
    {
     "data": {
      "text/html": [
       "Find logs at: <code>./wandb/run-20240224_164908-xz0kgzfk/logs</code>"
      ],
      "text/plain": [
       "<IPython.core.display.HTML object>"
      ]
     },
     "metadata": {},
     "output_type": "display_data"
    },
    {
     "data": {
      "text/html": [
       "Successfully finished last run (ID:xz0kgzfk). Initializing new run:<br/>"
      ],
      "text/plain": [
       "<IPython.core.display.HTML object>"
      ]
     },
     "metadata": {},
     "output_type": "display_data"
    },
    {
     "data": {
      "application/vnd.jupyter.widget-view+json": {
       "model_id": "40bfd805b5014b7bb9b577d3ff7ea3bc",
       "version_major": 2,
       "version_minor": 0
      },
      "text/plain": [
       "VBox(children=(Label(value='Waiting for wandb.init()...\\r'), FloatProgress(value=0.011112254455555456, max=1.0…"
      ]
     },
     "metadata": {},
     "output_type": "display_data"
    },
    {
     "data": {
      "text/html": [
       "Tracking run with wandb version 0.16.3"
      ],
      "text/plain": [
       "<IPython.core.display.HTML object>"
      ]
     },
     "metadata": {},
     "output_type": "display_data"
    },
    {
     "data": {
      "text/html": [
       "Run data is saved locally in <code>/home/kjk/Documents/Workspace/NeuralNetfromScratch/src/models/wandb/run-20240224_164945-kx25pdsx</code>"
      ],
      "text/plain": [
       "<IPython.core.display.HTML object>"
      ]
     },
     "metadata": {},
     "output_type": "display_data"
    },
    {
     "data": {
      "text/html": [
       "Syncing run <strong><a href='https://wandb.ai/kimkj/mnist-model-evaluation/runs/kx25pdsx' target=\"_blank\">fiery-bee-9</a></strong> to <a href='https://wandb.ai/kimkj/mnist-model-evaluation' target=\"_blank\">Weights & Biases</a> (<a href='https://wandb.me/run' target=\"_blank\">docs</a>)<br/>"
      ],
      "text/plain": [
       "<IPython.core.display.HTML object>"
      ]
     },
     "metadata": {},
     "output_type": "display_data"
    },
    {
     "data": {
      "text/html": [
       " View project at <a href='https://wandb.ai/kimkj/mnist-model-evaluation' target=\"_blank\">https://wandb.ai/kimkj/mnist-model-evaluation</a>"
      ],
      "text/plain": [
       "<IPython.core.display.HTML object>"
      ]
     },
     "metadata": {},
     "output_type": "display_data"
    },
    {
     "data": {
      "text/html": [
       " View run at <a href='https://wandb.ai/kimkj/mnist-model-evaluation/runs/kx25pdsx' target=\"_blank\">https://wandb.ai/kimkj/mnist-model-evaluation/runs/kx25pdsx</a>"
      ],
      "text/plain": [
       "<IPython.core.display.HTML object>"
      ]
     },
     "metadata": {},
     "output_type": "display_data"
    },
    {
     "data": {
      "text/html": [
       "<button onClick=\"this.nextSibling.style.display='block';this.style.display='none';\">Display W&B run</button><iframe src='https://wandb.ai/kimkj/mnist-model-evaluation/runs/kx25pdsx?jupyter=true' style='border:none;width:100%;height:420px;display:none;'></iframe>"
      ],
      "text/plain": [
       "<wandb.sdk.wandb_run.Run at 0x7f1b437b05e0>"
      ]
     },
     "execution_count": 29,
     "metadata": {},
     "output_type": "execute_result"
    }
   ],
   "source": [
    "wandb.init(project=\"mnist-model-evaluation\", entity=\"kimkj\")"
   ]
  },
  {
   "cell_type": "code",
   "execution_count": 30,
   "id": "0c025039-9c44-4dff-bd4f-e04ff802abc0",
   "metadata": {},
   "outputs": [],
   "source": [
    "transform = transforms.Compose([transforms.ToTensor(), transforms.Normalize((0.5,), (0.5,))])\n",
    "\n",
    "trainset = MNIST(root='./data', train=True, download=True, transform=transform)\n",
    "trainloader = torch.utils.data.DataLoader(trainset, batch_size=64, shuffle=True)\n",
    "\n",
    "testset = MNIST(root='./data', train=False, download=True, transform=transform)\n",
    "testloader = torch.utils.data.DataLoader(testset, batch_size=64, shuffle=False)\n"
   ]
  },
  {
   "cell_type": "code",
   "execution_count": 31,
   "id": "cd93ab23-7de6-485d-be1c-d2e34fed1f0e",
   "metadata": {},
   "outputs": [],
   "source": [
    "class Net(nn.Module):\n",
    "    def __init__(self):\n",
    "        super(Net, self).__init__()\n",
    "        self.conv1 = nn.Conv2d(1, 32, 5)  # input channel, output channels, kernel size\n",
    "        self.pool = nn.MaxPool2d(2, 2)\n",
    "        self.conv2 = nn.Conv2d(32, 64, 5)\n",
    "        self.fc1 = nn.Linear(64 * 4 * 4, 128)\n",
    "        self.fc2 = nn.Linear(128, 10)\n",
    "\n",
    "    def forward(self, x):\n",
    "        x = self.pool(F.relu(self.conv1(x)))\n",
    "        x = self.pool(F.relu(self.conv2(x)))\n",
    "        x = x.view(-1, 64 * 4 * 4)\n",
    "        x = F.relu(self.fc1(x))\n",
    "        x = self.fc2(x)\n",
    "        return x"
   ]
  },
  {
   "cell_type": "code",
   "execution_count": 32,
   "id": "2765fde2-5ef3-4307-b4a4-0aaa56b10485",
   "metadata": {},
   "outputs": [],
   "source": [
    "net = Net()\n",
    "criterion = nn.CrossEntropyLoss()\n",
    "optimizer = optim.Adam(net.parameters(), lr=0.001)"
   ]
  },
  {
   "cell_type": "code",
   "execution_count": 33,
   "id": "483c5d7d-0a85-41dd-91fe-169c2fb0e802",
   "metadata": {},
   "outputs": [
    {
     "data": {
      "text/plain": [
       "[]"
      ]
     },
     "execution_count": 33,
     "metadata": {},
     "output_type": "execute_result"
    }
   ],
   "source": [
    "wandb.watch(net, log=\"all\")\n"
   ]
  },
  {
   "cell_type": "code",
   "execution_count": 34,
   "id": "9b61fbba-5848-41b0-a582-fcac2d4f4b27",
   "metadata": {},
   "outputs": [
    {
     "name": "stdout",
     "output_type": "stream",
     "text": [
      "[1, 100] loss: 0.6118012794107198\n",
      "[1, 200] loss: 0.17894582372158765\n",
      "[1, 300] loss: 0.11059527533128857\n",
      "[1, 400] loss: 0.09305913521908224\n",
      "[1, 500] loss: 0.07619017046410591\n",
      "[1, 600] loss: 0.07818639677017927\n",
      "[1, 700] loss: 0.08075645588338375\n",
      "[1, 800] loss: 0.06211619125446305\n",
      "[1, 900] loss: 0.05760706997476518\n",
      "[2, 100] loss: 0.04387284838361666\n",
      "[2, 200] loss: 0.04518807751708664\n",
      "[2, 300] loss: 0.047502816563937816\n",
      "[2, 400] loss: 0.04860372927505523\n",
      "[2, 500] loss: 0.046855244447942826\n",
      "[2, 600] loss: 0.04483762062853202\n",
      "[2, 700] loss: 0.04131639020284638\n",
      "[2, 800] loss: 0.04579319661017507\n",
      "[2, 900] loss: 0.03641025670105592\n",
      "[3, 100] loss: 0.026309253356885165\n",
      "[3, 200] loss: 0.028834886578843\n",
      "[3, 300] loss: 0.030832766079111024\n",
      "[3, 400] loss: 0.0294508678127022\n",
      "[3, 500] loss: 0.02964957422052976\n",
      "[3, 600] loss: 0.031584769579931164\n",
      "[3, 700] loss: 0.033021427549829244\n",
      "[3, 800] loss: 0.04542470301908907\n",
      "[3, 900] loss: 0.024645655838539823\n",
      "[4, 100] loss: 0.023206861291255335\n",
      "[4, 200] loss: 0.020225785981456284\n",
      "[4, 300] loss: 0.025074082693317904\n",
      "[4, 400] loss: 0.023142556993843755\n",
      "[4, 500] loss: 0.030170577648677862\n",
      "[4, 600] loss: 0.01997573656059103\n",
      "[4, 700] loss: 0.021237085745378862\n",
      "[4, 800] loss: 0.025242267723733676\n",
      "[4, 900] loss: 0.027287887012644205\n",
      "[5, 100] loss: 0.013219485617300962\n",
      "[5, 200] loss: 0.014774838485609508\n",
      "[5, 300] loss: 0.012033280959294644\n",
      "[5, 400] loss: 0.02109137577645015\n",
      "[5, 500] loss: 0.019488796855002873\n",
      "[5, 600] loss: 0.017685962967807427\n",
      "[5, 700] loss: 0.015903472535283073\n",
      "[5, 800] loss: 0.01943671527860715\n",
      "[5, 900] loss: 0.01931913281172456\n",
      "[6, 100] loss: 0.01394379350989766\n",
      "[6, 200] loss: 0.012538699713986716\n",
      "[6, 300] loss: 0.014361791799456115\n",
      "[6, 400] loss: 0.01771154339890927\n",
      "[6, 500] loss: 0.015561628173818462\n",
      "[6, 600] loss: 0.01042857729624302\n",
      "[6, 700] loss: 0.016570117257651874\n",
      "[6, 800] loss: 0.020362876839499222\n",
      "[6, 900] loss: 0.022188054133875992\n",
      "[7, 100] loss: 0.0061047192067781\n",
      "[7, 200] loss: 0.012058742018125486\n",
      "[7, 300] loss: 0.01722305816037988\n",
      "[7, 400] loss: 0.01677499519837511\n",
      "[7, 500] loss: 0.010644947864748247\n",
      "[7, 600] loss: 0.012848594761744608\n",
      "[7, 700] loss: 0.01925328656558122\n",
      "[7, 800] loss: 0.014953214572688011\n",
      "[7, 900] loss: 0.017115611739027373\n",
      "[8, 100] loss: 0.006959532990003936\n",
      "[8, 200] loss: 0.01152730958754546\n",
      "[8, 300] loss: 0.01295533203312516\n",
      "[8, 400] loss: 0.016971549662339384\n",
      "[8, 500] loss: 0.012740544428179418\n",
      "[8, 600] loss: 0.008802356808901094\n",
      "[8, 700] loss: 0.005653008695589961\n",
      "[8, 800] loss: 0.01151044455597912\n",
      "[8, 900] loss: 0.017905996068911918\n",
      "[9, 100] loss: 0.0038234949711386437\n",
      "[9, 200] loss: 0.011078123034394594\n",
      "[9, 300] loss: 0.005214934761188488\n",
      "[9, 400] loss: 0.007617175677178238\n",
      "[9, 500] loss: 0.013521051144643935\n",
      "[9, 600] loss: 0.01134942314743057\n",
      "[9, 700] loss: 0.007188524132980092\n",
      "[9, 800] loss: 0.007170171214693255\n",
      "[9, 900] loss: 0.009932885611974598\n",
      "[10, 100] loss: 0.005850764790429821\n",
      "[10, 200] loss: 0.005939730048930869\n",
      "[10, 300] loss: 0.016047657262406576\n",
      "[10, 400] loss: 0.010522922957979972\n",
      "[10, 500] loss: 0.00822091254364409\n",
      "[10, 600] loss: 0.011925748604087403\n",
      "[10, 700] loss: 0.004935593173477173\n",
      "[10, 800] loss: 0.01078915595444414\n",
      "[10, 900] loss: 0.008572526319685494\n"
     ]
    }
   ],
   "source": [
    "for epoch in range(10):  # loop over the dataset multiple times\n",
    "    running_loss = 0.0\n",
    "    for i, data in enumerate(trainloader, 0):\n",
    "        inputs, labels = data\n",
    "        optimizer.zero_grad()\n",
    "        outputs = net(inputs)\n",
    "        loss = criterion(outputs, labels)\n",
    "        loss.backward()\n",
    "        optimizer.step()\n",
    "        running_loss += loss.item()\n",
    "        if i % 100 == 99:    # log every 100 mini-batches\n",
    "            print(f'[{epoch + 1}, {i + 1}] loss: {running_loss / 100}')\n",
    "            wandb.log({\"loss\": running_loss / 100})\n",
    "            running_loss = 0.0"
   ]
  },
  {
   "cell_type": "code",
   "execution_count": 35,
   "id": "a36e0b4a-f343-4d1f-b456-807fa36a9ed2",
   "metadata": {},
   "outputs": [
    {
     "name": "stdout",
     "output_type": "stream",
     "text": [
      "Accuracy of the network on the 10000 test images: 99 %\n"
     ]
    }
   ],
   "source": [
    "correct = 0\n",
    "total = 0\n",
    "with torch.no_grad():\n",
    "    for data in testloader:\n",
    "        images, labels = data\n",
    "        outputs = net(images)\n",
    "        _, predicted = torch.max(outputs.data, 1)\n",
    "        total += labels.size(0)\n",
    "        correct += (predicted == labels).sum().item()\n",
    "\n",
    "print('Accuracy of the network on the 10000 test images: %d %%' % (100 * correct / total))\n",
    "wandb.log({\"accuracy\": 100 * correct / total})"
   ]
  },
  {
   "cell_type": "code",
   "execution_count": 36,
   "id": "1e14e65b-963a-4102-9e59-4084a5e48ea2",
   "metadata": {},
   "outputs": [
    {
     "name": "stderr",
     "output_type": "stream",
     "text": [
      "wandb: WARNING Source type is set to 'repo' but some required information is missing from the environment. A job will not be created from this run. See https://docs.wandb.ai/guides/launch/create-job\n"
     ]
    },
    {
     "data": {
      "application/vnd.jupyter.widget-view+json": {
       "model_id": "e9a337773fc4426cbd7979ce659756b1",
       "version_major": 2,
       "version_minor": 0
      },
      "text/plain": [
       "VBox(children=(Label(value='0.003 MB of 0.003 MB uploaded\\r'), FloatProgress(value=1.0, max=1.0)))"
      ]
     },
     "metadata": {},
     "output_type": "display_data"
    },
    {
     "data": {
      "text/html": [
       "<style>\n",
       "    table.wandb td:nth-child(1) { padding: 0 10px; text-align: left ; width: auto;} td:nth-child(2) {text-align: left ; width: 100%}\n",
       "    .wandb-row { display: flex; flex-direction: row; flex-wrap: wrap; justify-content: flex-start; width: 100% }\n",
       "    .wandb-col { display: flex; flex-direction: column; flex-basis: 100%; flex: 1; padding: 10px; }\n",
       "    </style>\n",
       "<div class=\"wandb-row\"><div class=\"wandb-col\"><h3>Run history:</h3><br/><table class=\"wandb\"><tr><td>accuracy</td><td>▁</td></tr><tr><td>loss</td><td>█▂▂▂▁▁▁▁▁▁▁▁▁▁▁▁▁▁▁▁▁▁▁▁▁▁▁▁▁▁▁▁▁▁▁▁▁▁▁▁</td></tr></table><br/></div><div class=\"wandb-col\"><h3>Run summary:</h3><br/><table class=\"wandb\"><tr><td>accuracy</td><td>99.16</td></tr><tr><td>loss</td><td>0.00857</td></tr></table><br/></div></div>"
      ],
      "text/plain": [
       "<IPython.core.display.HTML object>"
      ]
     },
     "metadata": {},
     "output_type": "display_data"
    },
    {
     "data": {
      "text/html": [
       " View run <strong style=\"color:#cdcd00\">fiery-bee-9</strong> at: <a href='https://wandb.ai/kimkj/mnist-model-evaluation/runs/kx25pdsx' target=\"_blank\">https://wandb.ai/kimkj/mnist-model-evaluation/runs/kx25pdsx</a><br/>Synced 5 W&B file(s), 0 media file(s), 0 artifact file(s) and 0 other file(s)"
      ],
      "text/plain": [
       "<IPython.core.display.HTML object>"
      ]
     },
     "metadata": {},
     "output_type": "display_data"
    },
    {
     "data": {
      "text/html": [
       "Find logs at: <code>./wandb/run-20240224_164945-kx25pdsx/logs</code>"
      ],
      "text/plain": [
       "<IPython.core.display.HTML object>"
      ]
     },
     "metadata": {},
     "output_type": "display_data"
    }
   ],
   "source": [
    "wandb.finish()\n"
   ]
  }
 ],
 "metadata": {
  "kernelspec": {
   "display_name": "Python 3 (ipykernel)",
   "language": "python",
   "name": "python3"
  },
  "language_info": {
   "codemirror_mode": {
    "name": "ipython",
    "version": 3
   },
   "file_extension": ".py",
   "mimetype": "text/x-python",
   "name": "python",
   "nbconvert_exporter": "python",
   "pygments_lexer": "ipython3",
   "version": "3.10.12"
  }
 },
 "nbformat": 4,
 "nbformat_minor": 5
}
