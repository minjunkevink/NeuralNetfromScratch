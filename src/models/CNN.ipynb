{
 "cells": [
  {
   "cell_type": "code",
   "execution_count": 6,
   "id": "b285a0c9-b1d1-4fbe-a584-201ee5ab95d9",
   "metadata": {},
   "outputs": [],
   "source": [
    "import torch\n",
    "import torchvision\n",
    "import torchvision.transforms as transforms\n",
    "from torch import nn, optim\n",
    "from torchvision.datasets import MNIST\n",
    "import torch.nn.functional as F\n",
    "import wandb"
   ]
  },
  {
   "cell_type": "code",
   "execution_count": 7,
   "id": "6847e9c1-0f72-443a-a1c1-76a090ffbccc",
   "metadata": {},
   "outputs": [
    {
     "data": {
      "text/plain": [
       "<torch.cuda.device at 0x7fea1f45a9b0>"
      ]
     },
     "execution_count": 7,
     "metadata": {},
     "output_type": "execute_result"
    }
   ],
   "source": [
    "torch.cuda.is_available()\n",
    "torch.cuda.device(0)"
   ]
  },
  {
   "cell_type": "code",
   "execution_count": 8,
   "id": "1f1ba0a3-fe87-4cfc-9d06-ed1dead6b2fe",
   "metadata": {},
   "outputs": [
    {
     "name": "stderr",
     "output_type": "stream",
     "text": [
      "Failed to detect the name of this notebook, you can set it manually with the WANDB_NOTEBOOK_NAME environment variable to enable code saving.\n",
      "\u001b[34m\u001b[1mwandb\u001b[0m: Currently logged in as: \u001b[33mkimkj\u001b[0m. Use \u001b[1m`wandb login --relogin`\u001b[0m to force relogin\n"
     ]
    },
    {
     "data": {
      "text/html": [
       "Tracking run with wandb version 0.16.3"
      ],
      "text/plain": [
       "<IPython.core.display.HTML object>"
      ]
     },
     "metadata": {},
     "output_type": "display_data"
    },
    {
     "data": {
      "text/html": [
       "Run data is saved locally in <code>/home/kjk/Documents/Workspace/NeuralNetfromScratch/src/models/wandb/run-20240227_173645-le8hjinp</code>"
      ],
      "text/plain": [
       "<IPython.core.display.HTML object>"
      ]
     },
     "metadata": {},
     "output_type": "display_data"
    },
    {
     "data": {
      "text/html": [
       "Syncing run <strong><a href='https://wandb.ai/kimkj/mnist-model-evaluation/runs/le8hjinp' target=\"_blank\">ruby-morning-10</a></strong> to <a href='https://wandb.ai/kimkj/mnist-model-evaluation' target=\"_blank\">Weights & Biases</a> (<a href='https://wandb.me/run' target=\"_blank\">docs</a>)<br/>"
      ],
      "text/plain": [
       "<IPython.core.display.HTML object>"
      ]
     },
     "metadata": {},
     "output_type": "display_data"
    },
    {
     "data": {
      "text/html": [
       " View project at <a href='https://wandb.ai/kimkj/mnist-model-evaluation' target=\"_blank\">https://wandb.ai/kimkj/mnist-model-evaluation</a>"
      ],
      "text/plain": [
       "<IPython.core.display.HTML object>"
      ]
     },
     "metadata": {},
     "output_type": "display_data"
    },
    {
     "data": {
      "text/html": [
       " View run at <a href='https://wandb.ai/kimkj/mnist-model-evaluation/runs/le8hjinp' target=\"_blank\">https://wandb.ai/kimkj/mnist-model-evaluation/runs/le8hjinp</a>"
      ],
      "text/plain": [
       "<IPython.core.display.HTML object>"
      ]
     },
     "metadata": {},
     "output_type": "display_data"
    },
    {
     "data": {
      "text/html": [
       "<button onClick=\"this.nextSibling.style.display='block';this.style.display='none';\">Display W&B run</button><iframe src='https://wandb.ai/kimkj/mnist-model-evaluation/runs/le8hjinp?jupyter=true' style='border:none;width:100%;height:420px;display:none;'></iframe>"
      ],
      "text/plain": [
       "<wandb.sdk.wandb_run.Run at 0x7fea1e3e1180>"
      ]
     },
     "execution_count": 8,
     "metadata": {},
     "output_type": "execute_result"
    }
   ],
   "source": [
    "wandb.init(project=\"mnist-model-evaluation\", entity=\"kimkj\")"
   ]
  },
  {
   "cell_type": "code",
   "execution_count": 9,
   "id": "0c025039-9c44-4dff-bd4f-e04ff802abc0",
   "metadata": {},
   "outputs": [],
   "source": [
    "transform = transforms.Compose([transforms.ToTensor(), transforms.Normalize((0.5,), (0.5,))])\n",
    "\n",
    "trainset = MNIST(root='./data', train=True, download=True, transform=transform)\n",
    "trainloader = torch.utils.data.DataLoader(trainset, batch_size=64, shuffle=True)\n",
    "\n",
    "testset = MNIST(root='./data', train=False, download=True, transform=transform)\n",
    "testloader = torch.utils.data.DataLoader(testset, batch_size=64, shuffle=False)\n"
   ]
  },
  {
   "cell_type": "code",
   "execution_count": 10,
   "id": "cd93ab23-7de6-485d-be1c-d2e34fed1f0e",
   "metadata": {},
   "outputs": [],
   "source": [
    "class Net(nn.Module):\n",
    "    def __init__(self):\n",
    "        super(Net, self).__init__()\n",
    "        self.conv1 = nn.Conv2d(1, 32, 5)  # input channel, output channels, kernel size\n",
    "        self.pool = nn.MaxPool2d(2, 2)\n",
    "        self.conv2 = nn.Conv2d(32, 64, 5)\n",
    "        self.fc1 = nn.Linear(64 * 4 * 4, 128)\n",
    "        self.fc2 = nn.Linear(128, 10)\n",
    "\n",
    "    def forward(self, x):\n",
    "        x = self.pool(F.relu(self.conv1(x)))\n",
    "        x = self.pool(F.relu(self.conv2(x)))\n",
    "        x = x.view(-1, 64 * 4 * 4)\n",
    "        x = F.relu(self.fc1(x))\n",
    "        x = self.fc2(x)\n",
    "        return x"
   ]
  },
  {
   "cell_type": "markdown",
   "id": "ed3d4eb1",
   "metadata": {},
   "source": []
  },
  {
   "cell_type": "code",
   "execution_count": 11,
   "id": "2765fde2-5ef3-4307-b4a4-0aaa56b10485",
   "metadata": {},
   "outputs": [],
   "source": [
    "net = Net()\n",
    "criterion = nn.CrossEntropyLoss()\n",
    "optimizer = optim.Adam(net.parameters(), lr=0.001)"
   ]
  },
  {
   "cell_type": "code",
   "execution_count": 12,
   "id": "483c5d7d-0a85-41dd-91fe-169c2fb0e802",
   "metadata": {},
   "outputs": [
    {
     "data": {
      "text/plain": [
       "[]"
      ]
     },
     "execution_count": 12,
     "metadata": {},
     "output_type": "execute_result"
    }
   ],
   "source": [
    "wandb.watch(net, log=\"all\")\n"
   ]
  },
  {
   "cell_type": "code",
   "execution_count": 13,
   "id": "9b61fbba-5848-41b0-a582-fcac2d4f4b27",
   "metadata": {},
   "outputs": [
    {
     "name": "stdout",
     "output_type": "stream",
     "text": [
      "[1, 100] loss: 0.6003665025532245\n",
      "[1, 200] loss: 0.16417040321975945\n",
      "[1, 300] loss: 0.10776503842324019\n",
      "[1, 400] loss: 0.0918088820995763\n",
      "[1, 500] loss: 0.07934333146549762\n",
      "[1, 600] loss: 0.06789646556600928\n",
      "[1, 700] loss: 0.0646851144777611\n",
      "[1, 800] loss: 0.0583748265914619\n",
      "[1, 900] loss: 0.06918909749481827\n",
      "[2, 100] loss: 0.04191107958322391\n",
      "[2, 200] loss: 0.044960605646483603\n",
      "[2, 300] loss: 0.043821357116103174\n",
      "[2, 400] loss: 0.050211394735379146\n",
      "[2, 500] loss: 0.03748950225766748\n",
      "[2, 600] loss: 0.03802134282072075\n",
      "[2, 700] loss: 0.04106943976599723\n",
      "[2, 800] loss: 0.03857151072472334\n",
      "[2, 900] loss: 0.04431947691831738\n",
      "[3, 100] loss: 0.029230414869380182\n",
      "[3, 200] loss: 0.02618358903157059\n",
      "[3, 300] loss: 0.01968860053399112\n",
      "[3, 400] loss: 0.029337564525194468\n",
      "[3, 500] loss: 0.02723388690617867\n",
      "[3, 600] loss: 0.030478376239771024\n",
      "[3, 700] loss: 0.03256398255005479\n",
      "[3, 800] loss: 0.02404143688210752\n",
      "[3, 900] loss: 0.03823239745746832\n",
      "[4, 100] loss: 0.018396471673040652\n",
      "[4, 200] loss: 0.016226783137826713\n",
      "[4, 300] loss: 0.027861434524020297\n",
      "[4, 400] loss: 0.02729243873269297\n",
      "[4, 500] loss: 0.016667184448888293\n",
      "[4, 600] loss: 0.020078355295554504\n",
      "[4, 700] loss: 0.023260497531155125\n",
      "[4, 800] loss: 0.02523503909702413\n",
      "[4, 900] loss: 0.01997508058149833\n",
      "[5, 100] loss: 0.019515460766851903\n",
      "[5, 200] loss: 0.018268446320143995\n",
      "[5, 300] loss: 0.01878213432530174\n",
      "[5, 400] loss: 0.01690258067988907\n",
      "[5, 500] loss: 0.015460171634476865\n",
      "[5, 600] loss: 0.019385264911106787\n",
      "[5, 700] loss: 0.017563719706849952\n",
      "[5, 800] loss: 0.015600886584434193\n",
      "[5, 900] loss: 0.018000570108852115\n",
      "[6, 100] loss: 0.012877800126225337\n",
      "[6, 200] loss: 0.008011640529657598\n",
      "[6, 300] loss: 0.014146713856089264\n",
      "[6, 400] loss: 0.009260748011929536\n",
      "[6, 500] loss: 0.017424607212306\n",
      "[6, 600] loss: 0.013297377781782416\n",
      "[6, 700] loss: 0.020425962534645806\n",
      "[6, 800] loss: 0.009947365823609288\n",
      "[6, 900] loss: 0.017849074687910617\n",
      "[7, 100] loss: 0.012585703048262075\n",
      "[7, 200] loss: 0.011366867242777516\n",
      "[7, 300] loss: 0.020014796370123804\n",
      "[7, 400] loss: 0.01763757085776888\n",
      "[7, 500] loss: 0.00949746402027813\n",
      "[7, 600] loss: 0.004743242526419635\n",
      "[7, 700] loss: 0.014844508629339543\n",
      "[7, 800] loss: 0.014736641820563818\n",
      "[7, 900] loss: 0.015092785672022728\n",
      "[8, 100] loss: 0.007822628688700206\n",
      "[8, 200] loss: 0.009744744125364378\n",
      "[8, 300] loss: 0.008976311080523373\n",
      "[8, 400] loss: 0.009525651018811913\n",
      "[8, 500] loss: 0.004944275202255995\n",
      "[8, 600] loss: 0.01425251215996468\n",
      "[8, 700] loss: 0.012738571807576591\n",
      "[8, 800] loss: 0.00996589901864354\n",
      "[8, 900] loss: 0.011762326678817771\n",
      "[9, 100] loss: 0.006105530858221755\n",
      "[9, 200] loss: 0.009126815993131459\n",
      "[9, 300] loss: 0.0056233274550663735\n",
      "[9, 400] loss: 0.012418150307094039\n",
      "[9, 500] loss: 0.00821634240941421\n",
      "[9, 600] loss: 0.008201552134887607\n",
      "[9, 700] loss: 0.007714199184447352\n",
      "[9, 800] loss: 0.009892751277084244\n",
      "[9, 900] loss: 0.011264561271150341\n",
      "[10, 100] loss: 0.011595597217074101\n",
      "[10, 200] loss: 0.010044748114810318\n",
      "[10, 300] loss: 0.007992483115303912\n",
      "[10, 400] loss: 0.013168604425368357\n",
      "[10, 500] loss: 0.006604900066740811\n",
      "[10, 600] loss: 0.00934863669494007\n",
      "[10, 700] loss: 0.004988708671692166\n",
      "[10, 800] loss: 0.006409829689403068\n",
      "[10, 900] loss: 0.005253048786244108\n"
     ]
    }
   ],
   "source": [
    "for epoch in range(10):  # loop over the dataset multiple times\n",
    "    running_loss = 0.0\n",
    "    for i, data in enumerate(trainloader, 0):\n",
    "        inputs, labels = data\n",
    "        optimizer.zero_grad()\n",
    "        outputs = net(inputs)\n",
    "        loss = criterion(outputs, labels)\n",
    "        loss.backward()\n",
    "        optimizer.step()\n",
    "        running_loss += loss.item()\n",
    "        if i % 100 == 99:    # log every 100 mini-batches\n",
    "            print(f'[{epoch + 1}, {i + 1}] loss: {running_loss / 100}')\n",
    "            wandb.log({\"loss\": running_loss / 100})\n",
    "            running_loss = 0.0"
   ]
  },
  {
   "cell_type": "code",
   "execution_count": 14,
   "id": "a36e0b4a-f343-4d1f-b456-807fa36a9ed2",
   "metadata": {},
   "outputs": [
    {
     "name": "stdout",
     "output_type": "stream",
     "text": [
      "Accuracy of the network on the 10000 test images: 99 %\n"
     ]
    }
   ],
   "source": [
    "correct = 0\n",
    "total = 0\n",
    "with torch.no_grad():\n",
    "    for data in testloader:\n",
    "        images, labels = data\n",
    "        outputs = net(images)\n",
    "        _, predicted = torch.max(outputs.data, 1)\n",
    "        total += labels.size(0)\n",
    "        correct += (predicted == labels).sum().item()\n",
    "\n",
    "print('Accuracy of the network on the 10000 test images: %d %%' % (100 * correct / total))\n",
    "wandb.log({\"accuracy\": 100 * correct / total})"
   ]
  },
  {
   "cell_type": "code",
   "execution_count": 15,
   "id": "1e14e65b-963a-4102-9e59-4084a5e48ea2",
   "metadata": {},
   "outputs": [
    {
     "name": "stderr",
     "output_type": "stream",
     "text": [
      "wandb: WARNING Source type is set to 'repo' but some required information is missing from the environment. A job will not be created from this run. See https://docs.wandb.ai/guides/launch/create-job\n"
     ]
    },
    {
     "data": {
      "application/vnd.jupyter.widget-view+json": {
       "model_id": "be105c1573a04cc586ba8a6e9ced438b",
       "version_major": 2,
       "version_minor": 0
      },
      "text/plain": [
       "VBox(children=(Label(value='0.003 MB of 0.003 MB uploaded\\r'), FloatProgress(value=1.0, max=1.0)))"
      ]
     },
     "metadata": {},
     "output_type": "display_data"
    },
    {
     "data": {
      "text/html": [
       "<style>\n",
       "    table.wandb td:nth-child(1) { padding: 0 10px; text-align: left ; width: auto;} td:nth-child(2) {text-align: left ; width: 100%}\n",
       "    .wandb-row { display: flex; flex-direction: row; flex-wrap: wrap; justify-content: flex-start; width: 100% }\n",
       "    .wandb-col { display: flex; flex-direction: column; flex-basis: 100%; flex: 1; padding: 10px; }\n",
       "    </style>\n",
       "<div class=\"wandb-row\"><div class=\"wandb-col\"><h3>Run history:</h3><br/><table class=\"wandb\"><tr><td>accuracy</td><td>▁</td></tr><tr><td>loss</td><td>█▂▂▂▁▁▁▁▁▁▁▁▁▁▁▁▁▁▁▁▁▁▁▁▁▁▁▁▁▁▁▁▁▁▁▁▁▁▁▁</td></tr></table><br/></div><div class=\"wandb-col\"><h3>Run summary:</h3><br/><table class=\"wandb\"><tr><td>accuracy</td><td>99.24</td></tr><tr><td>loss</td><td>0.00525</td></tr></table><br/></div></div>"
      ],
      "text/plain": [
       "<IPython.core.display.HTML object>"
      ]
     },
     "metadata": {},
     "output_type": "display_data"
    },
    {
     "data": {
      "text/html": [
       " View run <strong style=\"color:#cdcd00\">ruby-morning-10</strong> at: <a href='https://wandb.ai/kimkj/mnist-model-evaluation/runs/le8hjinp' target=\"_blank\">https://wandb.ai/kimkj/mnist-model-evaluation/runs/le8hjinp</a><br/>Synced 5 W&B file(s), 0 media file(s), 0 artifact file(s) and 0 other file(s)"
      ],
      "text/plain": [
       "<IPython.core.display.HTML object>"
      ]
     },
     "metadata": {},
     "output_type": "display_data"
    },
    {
     "data": {
      "text/html": [
       "Find logs at: <code>./wandb/run-20240227_173645-le8hjinp/logs</code>"
      ],
      "text/plain": [
       "<IPython.core.display.HTML object>"
      ]
     },
     "metadata": {},
     "output_type": "display_data"
    }
   ],
   "source": [
    "wandb.finish()\n"
   ]
  },
  {
   "cell_type": "code",
   "execution_count": null,
   "id": "16fee21d",
   "metadata": {},
   "outputs": [],
   "source": []
  }
 ],
 "metadata": {
  "kernelspec": {
   "display_name": "Python 3 (ipykernel)",
   "language": "python",
   "name": "python3"
  },
  "language_info": {
   "codemirror_mode": {
    "name": "ipython",
    "version": 3
   },
   "file_extension": ".py",
   "mimetype": "text/x-python",
   "name": "python",
   "nbconvert_exporter": "python",
   "pygments_lexer": "ipython3",
   "version": "3.10.12"
  }
 },
 "nbformat": 4,
 "nbformat_minor": 5
}
